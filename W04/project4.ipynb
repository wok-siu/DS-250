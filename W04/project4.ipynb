{
  "cells": [
    {
      "cell_type": "raw",
      "metadata": {},
      "source": [
        "---\n",
        "title: \"Client Report - [Project 2]\"\n",
        "subtitle: \"Course DS 250\"\n",
        "author: \"Duane Siu\"\n",
        "format:\n",
        "  html:\n",
        "    self-contained: true\n",
        "    page-layout: full\n",
        "    title-block-banner: true\n",
        "    toc: true\n",
        "    toc-depth: 3\n",
        "    toc-location: body\n",
        "    number-sections: false\n",
        "    html-math-method: katex\n",
        "    code-fold: true\n",
        "    code-summary: \"Show the code\"\n",
        "    code-overflow: wrap\n",
        "    code-copy: hover\n",
        "    code-tools:\n",
        "        source: false\n",
        "        toggle: true\n",
        "        caption: See code\n",
        "    \n",
        "---"
      ],
      "id": "7a84e634"
    },
    {
      "cell_type": "code",
      "metadata": {},
      "source": [
        "#| label: libraries\n",
        "#| include: false\n",
        "import altair as alt\n",
        "\n",
        "from IPython.display import Markdown\n",
        "from IPython.display import display\n",
        "from tabulate import tabulate"
      ],
      "id": "libraries",
      "execution_count": null,
      "outputs": []
    },
    {
      "cell_type": "markdown",
      "metadata": {},
      "source": [
        "## Elevator pitch\n",
        "\n",
        "_When you hear the word “relationship” what is the first thing that comes to mind? Probably not baseball. But a relationship is simply a way to describe how two or more objects are connected. There are many relationships in baseball such as those between teams and managers, players and salaries, even stadiums and concession prices. The graphs on Data Visualizations from Best Tickets show many other relationships that exist in baseball.\n",
        "\n",
        "For this project, my client would like developed SQL queries that they can use to retrieve data for use on their website without needing Python. They would also like to see example Altair charts._\n"
      ],
      "id": "1c6672b9"
    },
    {
      "cell_type": "code",
      "metadata": {},
      "source": [
        "#| label: project data\n",
        "#| code-summary: Read and format project data\n",
        "# Include and execute your code here\n",
        "import pandas as pd\n",
        "import sqlite3\n",
        "import altair as alt\n",
        "con = sqlite3.connect('lahmansbaseballdb.sqlite')"
      ],
      "id": "project-data",
      "execution_count": null,
      "outputs": []
    },
    {
      "cell_type": "markdown",
      "metadata": {},
      "source": [
        "__Highlight the grand questions__\n",
        "\n",
        "## GRAND QUESTION 1\n",
        "\n",
        "__Write an SQL query to create a new dataframe about baseball players who attended BYU-Idaho. The new table should contain five columns: playerID, schoolID, salary, and the yearID/teamID associated with each salary. Order the table by salary (highest to lowest) and print out the table in your report.__\n",
        "\n",
        "_The usage of my name Duane has started gaining popularity since 1900s but started to decline from 1960s. During my birth year of 2000s the name is seldomly used compared to a century ago._\n"
      ],
      "id": "b5c7412c"
    },
    {
      "cell_type": "code",
      "metadata": {},
      "source": [
        "df = pd.read_sql_query(\"\"\"\n",
        "    SELECT DISTINCT Salaries.playerID, CollegePlaying.schoolID, Salaries.teamID, Salaries.Salary, Salaries.yearID\n",
        "    FROM Salaries \n",
        "    JOIN CollegePlaying ON Salaries.playerID = CollegePlaying.playerID\n",
        "    WHERE CollegePlaying.schoolID LIKE \"%BYUI%\"\n",
        "    ORDER BY salary DESC\n",
        "    \"\"\", con)\n",
        "\n",
        "df"
      ],
      "id": "7bbf01de",
      "execution_count": null,
      "outputs": []
    },
    {
      "cell_type": "markdown",
      "metadata": {},
      "source": [
        "## GRAND QUESTION 2\n",
        "\n",
        "__If you talked to someone named Brittany on the phone, what is your guess of his or her age? What ages would you not guess?__\n",
        "\n",
        "_She will be around the age of 30-35._\n"
      ],
      "id": "69ec953d"
    },
    {
      "cell_type": "code",
      "metadata": {},
      "source": [
        "## Brittany appearnace\n",
        "name = (names\n",
        "    .query(\"name == 'Brittany'\")\n",
        "    .assign(Age=lambda name:2022 - name['year'].dt.year)\n",
        ")\n",
        "\n",
        "#%%\n",
        "chart = (\n",
        "    alt.Chart(name)\n",
        "    .encode(\n",
        "        x = \"Age\",\n",
        "        y = \"Total\",\n",
        "        color = alt.Color(\"name\")\n",
        "    ).mark_line()\n",
        ")\n",
        "chart"
      ],
      "id": "ad636cd7",
      "execution_count": null,
      "outputs": []
    },
    {
      "cell_type": "markdown",
      "metadata": {},
      "source": [
        "## GRAND QUESTION 3\n",
        "\n",
        "__Mary, Martha, Peter, and Paul are all Christian names. From 1920 - 2000, compare the name usage of each of the four names. What trends do you notice?__\n",
        "\n",
        "_We can see Mary is the most popular name out of the four while Martha and Peter being the least popular overall._\n",
        "_Martha name's popularity increased gradually from 1920s and peaked at around 1950s then started deacreasing._\n",
        "_Peter followed a similar trend with Martha but with a slightly lesser increase and decrease over the entire period._\n"
      ],
      "id": "762fe2db"
    },
    {
      "cell_type": "code",
      "metadata": {},
      "source": [
        "## Mary, Martha, Peter, and Paul\n",
        "name = (names\n",
        "    .query(\"name == ['Mary', 'Martha', 'Peter', 'Paul']\")\n",
        "    .query(\"year >= 1920 & year <= 2000\")\n",
        ")\n",
        "\n",
        "chart = (alt.Chart(name)\n",
        "        .encode(\n",
        "            x = \"year\",\n",
        "            y = \"Total\",\n",
        "            color = alt.Color(\"name\")\n",
        "        ).mark_line()\n",
        ")\n",
        "chart"
      ],
      "id": "696159e5",
      "execution_count": null,
      "outputs": []
    },
    {
      "cell_type": "markdown",
      "metadata": {},
      "source": [
        "_include figures in chunks and discuss your findings in the figure._\n",
        "\n",
        "## GRAND QUESTION 4\n",
        "\n",
        "__Think of a unique name from a famous movie. Plot the usage of that name and see how changes line up with the movie release. Does it look like the movie had an effect on usage?__\n",
        "\n",
        "_The movie I chose was Star Wars since Anakin's introduction in Star Wars: Episode I - The Phantom Menace as a kid. The usage of the name spiked during 2005 the movie release year, indicating a strong correlation between the movie and the popularity of the name_\n"
      ],
      "id": "27ef2603"
    },
    {
      "cell_type": "code",
      "metadata": {},
      "source": [
        "## Star Wars: |Anakin| = Vader!\n",
        "name = (names\n",
        "    .query(\"name == 'Anakin'\")\n",
        ")\n",
        "\n",
        "chart = (alt.Chart(name)\n",
        "    .mark_line()\n",
        "    .encode(\n",
        "        x = \"year\",\n",
        "        y = \"Total\",\n",
        "        color = alt.Color(\"name\")\n",
        "    )\n",
        ")\n",
        " \n",
        "movie_release = names.query(\"name == 'Anakin' & year == '2005'\")\n",
        "\n",
        "chart1 = (alt.Chart(movie_release)\n",
        "    .mark_rule(color='red')\n",
        "    .encode(\n",
        "        x = \"year\"\n",
        "    )\n",
        ")\n",
        "chart + chart1"
      ],
      "id": "f625ae36",
      "execution_count": null,
      "outputs": []
    }
  ],
  "metadata": {
    "kernelspec": {
      "name": "python3",
      "language": "python",
      "display_name": "Python 3 (ipykernel)"
    }
  },
  "nbformat": 4,
  "nbformat_minor": 5
}