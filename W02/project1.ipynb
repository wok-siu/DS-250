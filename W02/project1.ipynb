{
  "cells": [
    {
      "cell_type": "raw",
      "metadata": {},
      "source": [
        "---\n",
        "title: \"Client Report - [Project 1]\"\n",
        "subtitle: \"Course DS 250\"\n",
        "author: \"Duane Siu\"\n",
        "format:\n",
        "  html:\n",
        "    self-contained: true\n",
        "    page-layout: full\n",
        "    title-block-banner: true\n",
        "    toc: true\n",
        "    toc-depth: 3\n",
        "    toc-location: body\n",
        "    number-sections: false\n",
        "    html-math-method: katex\n",
        "    code-fold: true\n",
        "    code-summary: \"Show the code\"\n",
        "    code-overflow: wrap\n",
        "    code-copy: hover\n",
        "    code-tools:\n",
        "        source: false\n",
        "        toggle: true\n",
        "        caption: See code\n",
        "    \n",
        "---"
      ],
      "id": "b9dab1e1"
    },
    {
      "cell_type": "code",
      "metadata": {},
      "source": [
        "#| label: libraries\n",
        "#| include: false\n",
        "import pandas as pd\n",
        "import altair as alt\n",
        "import numpy as np\n",
        "import datetime as dt\n",
        "\n",
        "from IPython.display import Markdown\n",
        "from IPython.display import display\n",
        "from tabulate import tabulate"
      ],
      "id": "libraries",
      "execution_count": null,
      "outputs": []
    },
    {
      "cell_type": "markdown",
      "metadata": {},
      "source": [
        "## Elevator pitch\n",
        "\n",
        "_Early in prehistory, some descriptive names began to be used again and again until they formed a name pool for a particular culture. Parents would choose names from the pool of existing names rather than invent new ones for their children.\n",
        "\n",
        "With the rise of Christianity, certain trends in naming practices manifested. Christians were encouraged to name their children after saints and martyrs of the church. These early Christian names can be found in many cultures today, in various forms. These were spread by early missionaries throughout the Mediterranean basin and Europe.\n",
        "\n",
        "By the Middle Ages, the Christian influence on naming practices was pervasive. Each culture had its pool of names, which were a combination of native names and early Christian names that had been in the language long enough to be considered native._\n"
      ],
      "id": "204d400a"
    },
    {
      "cell_type": "code",
      "metadata": {},
      "source": [
        "#| label: project data\n",
        "#| code-summary: Read and format project data\n",
        "# Include and execute your code here\n",
        "url = \"https://github.com/byuidatascience/data4names/raw/master/data-raw/names_year/names_year.csv\"\n",
        "names = pd.read_csv(url, parse_dates=['year'])"
      ],
      "id": "project-data",
      "execution_count": null,
      "outputs": []
    },
    {
      "cell_type": "markdown",
      "metadata": {},
      "source": [
        "__Highlight the grand questions__\n",
        "\n",
        "## GRAND QUESTION 1\n",
        "\n",
        "__How does your name at your birth year compare to its use historically?__\n",
        "\n",
        "_The usage of my name Duane has started gaining popularity since 1900s but started to decline from 1960s. During my birth year of 2000s the name is seldomly used compared to a century ago._\n"
      ],
      "id": "abbb3776"
    },
    {
      "cell_type": "code",
      "metadata": {},
      "source": [
        "## My name\n",
        "name = names.query(\"name == 'Duane'\")\n",
        "\n",
        "## Graph of my name\n",
        "chart = (alt.Chart(name)\n",
        "        .encode(\n",
        "            x = \"year\",\n",
        "            y = \"Total\",\n",
        "            color = alt.Color(\"name\")\n",
        "        ).mark_line()\n",
        ")\n",
        "chart"
      ],
      "id": "b60685e0",
      "execution_count": null,
      "outputs": []
    },
    {
      "cell_type": "markdown",
      "metadata": {},
      "source": [
        "## GRAND QUESTION 2\n",
        "\n",
        "__If you talked to someone named Brittany on the phone, what is your guess of his or her age? What ages would you not guess?__\n",
        "\n",
        "_She will be around the age of 30-35._\n"
      ],
      "id": "d1026a69"
    },
    {
      "cell_type": "code",
      "metadata": {},
      "source": [
        "## Brittany appearnace\n",
        "name = (names\n",
        "    .query(\"name == 'Brittany'\")\n",
        "    .assign(Age=lambda name:2022 - name['year'].dt.year)\n",
        ")\n",
        "\n",
        "#%%\n",
        "chart = (\n",
        "    alt.Chart(name)\n",
        "    .encode(\n",
        "        x = \"Age\",\n",
        "        y = \"Total\",\n",
        "        color = alt.Color(\"name\")\n",
        "    ).mark_line()\n",
        ")\n",
        "chart"
      ],
      "id": "5e6d220e",
      "execution_count": null,
      "outputs": []
    },
    {
      "cell_type": "markdown",
      "metadata": {},
      "source": [
        "## GRAND QUESTION 3\n",
        "\n",
        "__Mary, Martha, Peter, and Paul are all Christian names. From 1920 - 2000, compare the name usage of each of the four names. What trends do you notice?__\n",
        "\n",
        "_We can see Mary is the most popular name out of the four while Martha and Peter being the least popular overall._\n",
        "_Martha name's popularity increased gradually from 1920s and peaked at around 1950s then started deacreasing._\n",
        "_Peter followed a similar trend with Martha but with a slightly lesser increase and decrease over the entire period._\n"
      ],
      "id": "2a4d853b"
    },
    {
      "cell_type": "code",
      "metadata": {},
      "source": [
        "## Mary, Martha, Peter, and Paul\n",
        "name = (names\n",
        "    .query(\"name == ['Mary', 'Martha', 'Peter', 'Paul']\")\n",
        "    .query(\"year >= 1920 & year <= 2000\")\n",
        ")\n",
        "\n",
        "chart = (alt.Chart(name)\n",
        "        .encode(\n",
        "            x = \"year\",\n",
        "            y = \"Total\",\n",
        "            color = alt.Color(\"name\")\n",
        "        ).mark_line()\n",
        ")\n",
        "chart"
      ],
      "id": "bbff94a1",
      "execution_count": null,
      "outputs": []
    },
    {
      "cell_type": "markdown",
      "metadata": {},
      "source": [
        "_include figures in chunks and discuss your findings in the figure._\n",
        "\n",
        "## GRAND QUESTION 4\n",
        "\n",
        "__Think of a unique name from a famous movie. Plot the usage of that name and see how changes line up with the movie release. Does it look like the movie had an effect on usage?__\n",
        "\n",
        "_The movie I chose was Star Wars since Anakin's introduction in Star Wars: Episode I - The Phantom Menace as a kid. The usage of the name spiked during 2005 the movie release year, indicating a strong correlation between the movie and the popularity of the name_\n"
      ],
      "id": "3e16d6f7"
    },
    {
      "cell_type": "code",
      "metadata": {},
      "source": [
        "## Star Wars: |Anakin| = Vader!\n",
        "name = (names\n",
        "    .query(\"name == 'Anakin'\")\n",
        ")\n",
        "\n",
        "chart = (alt.Chart(name)\n",
        "    .mark_line()\n",
        "    .encode(\n",
        "        x = \"year\",\n",
        "        y = \"Total\",\n",
        "        color = alt.Color(\"name\")\n",
        "    )\n",
        ")\n",
        " \n",
        "movie_release = names.query(\"name == 'Anakin' & year == '2005'\")\n",
        "\n",
        "chart1 = (alt.Chart(movie_release)\n",
        "    .mark_rule(color='red')\n",
        "    .encode(\n",
        "        x = \"year\"\n",
        "    )\n",
        ")\n",
        "chart + chart1"
      ],
      "id": "b754d86d",
      "execution_count": null,
      "outputs": []
    }
  ],
  "metadata": {
    "kernelspec": {
      "display_name": "Python 3",
      "language": "python",
      "name": "python3"
    }
  },
  "nbformat": 4,
  "nbformat_minor": 5
}